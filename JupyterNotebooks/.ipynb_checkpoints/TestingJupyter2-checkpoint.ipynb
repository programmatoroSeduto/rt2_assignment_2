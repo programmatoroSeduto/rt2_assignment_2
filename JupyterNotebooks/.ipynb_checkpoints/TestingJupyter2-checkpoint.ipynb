{
 "cells": [
  {
   "cell_type": "code",
   "execution_count": 24,
   "id": "17c487c1",
   "metadata": {
    "ExecuteTime": {
     "end_time": "2022-03-31T13:50:56.050450Z",
     "start_time": "2022-03-31T13:50:55.269883Z"
    }
   },
   "outputs": [
    {
     "data": {
      "text/plain": [
       "success: False\n",
       "message: ''"
      ]
     },
     "execution_count": 24,
     "metadata": {},
     "output_type": "execute_result"
    }
   ],
   "source": [
    "import jupyros\n",
    "import rospy\n",
    "import ipywidgets as widgets\n",
    "from std_srvs.srv import SetBool, SetBoolRequest, SetBoolResponse\n",
    "from rt2_assignment1.srv import Command, CommandRequest, CommandResponse\n",
    "from geometry_msgs.msg import Twist\n",
    "\n",
    "rospy.init_node( \"jupyter_end_ui\" )\n",
    "name_ui_trigger = \"/ui_trigger\"\n",
    "rospy.wait_for_service( name_ui_trigger )\n",
    "cli_ui_trigger = rospy.ServiceProxy( name_ui_trigger, SetBool )\n",
    "cli_ui_trigger( True )"
   ]
  },
  {
   "cell_type": "markdown",
   "id": "4303c2db",
   "metadata": {},
   "source": [
    "Test: provare a connettersi a `/cmd_vel`:"
   ]
  },
  {
   "cell_type": "code",
   "execution_count": 25,
   "id": "22a3f0a9",
   "metadata": {
    "ExecuteTime": {
     "end_time": "2022-03-31T13:51:04.050355Z",
     "start_time": "2022-03-31T13:51:04.030103Z"
    }
   },
   "outputs": [],
   "source": [
    "tw = Twist( )\n",
    "tw.linear.x = 0.0\n",
    "tw.linear.y = 0.0\n",
    "tw.linear.z = 0.0\n",
    "tw.angular.x = 0.0\n",
    "tw.angular.y = 0.0\n",
    "tw.angular.z = 0.0\n",
    "\n",
    "pub_cmd_vel = rospy.Publisher( \"/cmd_vel\", Twist, queue_size=1000 )\n",
    "# print( pub_cmd_vel.get_num_connections( ) )"
   ]
  },
  {
   "cell_type": "markdown",
   "id": "8d160531",
   "metadata": {},
   "source": [
    "PER AVVIARLO: prima ho avviato Jupyter, poi la simulazione. Ora, rimane da chiarire se tutto funziona come si deve. \n",
    "\n",
    "Anzitutto, provo ad inviare un messaggio, aspetto tot, e poi fermo il robot. "
   ]
  },
  {
   "cell_type": "code",
   "execution_count": 26,
   "id": "a9fcae29",
   "metadata": {
    "ExecuteTime": {
     "end_time": "2022-03-31T13:51:15.390212Z",
     "start_time": "2022-03-31T13:51:10.238820Z"
    }
   },
   "outputs": [],
   "source": [
    "import math\n",
    "\n",
    "# il robot inizia a girare su se stesso, un quarto di giro al secondo\n",
    "tw.angular.z = (math.pi*2)/4\n",
    "pub_cmd_vel.publish( tw )\n",
    "\n",
    "# attesa di 5s\n",
    "rospy.sleep(rospy.Duration( secs=5 ))\n",
    "\n",
    "# invia velocità angolare nulla\n",
    "tw.angular.z = 0\n",
    "pub_cmd_vel.publish( tw )"
   ]
  },
  {
   "cell_type": "markdown",
   "id": "cc291f31",
   "metadata": {},
   "source": [
    "FUNZIONA! Già che ci siamo, voglio vedere se la modaità autonoma funziona ancora. Il sospetto è che si possa avere un solo publisher alla volta, per qualche ragione (*non c'è qualche opzione magica nel publisher?*)"
   ]
  },
  {
   "cell_type": "code",
   "execution_count": 27,
   "id": "204994be",
   "metadata": {
    "ExecuteTime": {
     "end_time": "2022-03-31T13:51:16.048700Z",
     "start_time": "2022-03-31T13:51:16.018452Z"
    }
   },
   "outputs": [
    {
     "data": {
      "application/vnd.jupyter.widget-view+json": {
       "model_id": "664b211423334d97b42d9a66b1faedec",
       "version_major": 2,
       "version_minor": 0
      },
      "text/plain": [
       "ToggleButton(value=False, description='Authonomous Mode', tooltip='allows to turn on/ turn off the authomatic …"
      ]
     },
     "metadata": {},
     "output_type": "display_data"
    },
    {
     "name": "stdout",
     "output_type": "stream",
     "text": [
      "turn on the authonomous mode\n",
      "turn off the authonomous mode\n"
     ]
    }
   ],
   "source": [
    "togglebutton_ui_trigger = widgets.ToggleButton( \n",
    "    tooltip=\"allows to turn on/ turn off the authomatic behaviour.\",\n",
    "    description=\"Authonomous Mode\",\n",
    "    value=False )\n",
    "\n",
    "mode_manual = True\n",
    "\n",
    "def change_ui_status( val ):\n",
    "    # print( type(val) )\n",
    "    if val['new']:\n",
    "        print( \"turn on the authonomous mode\" )\n",
    "        cli_ui_trigger( False )\n",
    "        mode_manual = False\n",
    "        pass\n",
    "    else:\n",
    "        print( \"turn off the authonomous mode\" )\n",
    "        cli_ui_trigger( True )\n",
    "        mode_manual = True\n",
    "        pass\n",
    "\n",
    "togglebutton_ui_trigger.observe( change_ui_status, names='value' )\n",
    "display(togglebutton_ui_trigger)"
   ]
  },
  {
   "cell_type": "markdown",
   "id": "4e8aa8e6",
   "metadata": {},
   "source": [
    "E ANCHE QUESTO FUNZIONA! Ora provo a fare le stesse prove, ma stavolta avviando prima la simulazione e poi Jupyter.\n",
    "\n",
    "Anche avviando prima ROS e poi Jupyter funziona tutto. Ultima prova: gli slider. "
   ]
  },
  {
   "cell_type": "code",
   "execution_count": 28,
   "id": "ed1898bc",
   "metadata": {
    "ExecuteTime": {
     "end_time": "2022-03-31T13:51:32.821509Z",
     "start_time": "2022-03-31T13:51:32.766735Z"
    }
   },
   "outputs": [
    {
     "data": {
      "application/vnd.jupyter.widget-view+json": {
       "model_id": "6167a3f6ec9e4a2a9e6cd0dd44f3e6cd",
       "version_major": 2,
       "version_minor": 0
      },
      "text/plain": [
       "FloatSlider(value=0.0, max=5.0, min=-5.0)"
      ]
     },
     "metadata": {},
     "output_type": "display_data"
    },
    {
     "data": {
      "application/vnd.jupyter.widget-view+json": {
       "model_id": "25fd8a7bcb374f97a89650c920edb809",
       "version_major": 2,
       "version_minor": 0
      },
      "text/plain": [
       "FloatSlider(value=0.0, max=6.283185307179586, min=-6.283185307179586)"
      ]
     },
     "metadata": {},
     "output_type": "display_data"
    },
    {
     "data": {
      "application/vnd.jupyter.widget-view+json": {
       "model_id": "3b0b8f3c32c149658f3bc2f8c92eeec3",
       "version_major": 2,
       "version_minor": 0
      },
      "text/plain": [
       "Button(description='set zero', style=ButtonStyle())"
      ]
     },
     "metadata": {},
     "output_type": "display_data"
    }
   ],
   "source": [
    "import math\n",
    "import copy\n",
    "\n",
    "tw0 = Twist( )\n",
    "tw0.linear.x = 0.0\n",
    "tw0.linear.y = 0.0\n",
    "tw0.linear.z = 0.0\n",
    "tw0.angular.x = 0.0\n",
    "tw0.angular.y = 0.0\n",
    "tw0.angular.z = 0.0\n",
    "tw = copy.copy( tw0 )\n",
    "pub_cmd_vel.publish( tw0 )\n",
    "\n",
    "pi2 = math.pi*2\n",
    "slider_linear  = widgets.FloatSlider( min=-5, max=5, value=0, step=0.1, readout=True )\n",
    "slider_angular = widgets.FloatSlider( min=-pi2, max=pi2, value=0, step=0.1, readout=True )\n",
    "button_set_zero = widgets.Button( value=False, description=\"set zero\" )\n",
    "\n",
    "def on_linear_change( v ):\n",
    "    global mode_manual\n",
    "    \n",
    "    vlinear = v[\"new\"]\n",
    "    # if mode_manual:\n",
    "    tw.linear.x = vlinear\n",
    "    pub_cmd_vel.publish( tw )\n",
    "\n",
    "def on_angular_change( a ):\n",
    "    global mode_manual\n",
    "    \n",
    "    vangular = a[\"new\"]\n",
    "    # if mode_manual:\n",
    "    tw.angular.z = vangular\n",
    "    pub_cmd_vel.publish( tw )\n",
    "\n",
    "def slider_set_zero( bclick ):\n",
    "    slider_linear.value  = 0.0\n",
    "    slider_angular.value = 0.0\n",
    "    tw = copy.copy( tw0 )\n",
    "    pub_cmd_vel.publish( tw )\n",
    "\n",
    "button_set_zero.on_click( slider_set_zero )\n",
    "slider_linear.observe( on_linear_change, names=\"value\" )\n",
    "slider_angular.observe( on_angular_change, names=\"value\" )\n",
    "display( slider_linear, slider_angular, button_set_zero )"
   ]
  },
  {
   "cell_type": "markdown",
   "id": "2aa3546d",
   "metadata": {},
   "source": [
    "Ora,proviamo a fare i 4 tasti. "
   ]
  },
  {
   "cell_type": "code",
   "execution_count": 32,
   "id": "0b872c96",
   "metadata": {
    "ExecuteTime": {
     "end_time": "2022-03-31T13:54:53.596582Z",
     "start_time": "2022-03-31T13:54:53.544962Z"
    }
   },
   "outputs": [
    {
     "data": {
      "application/vnd.jupyter.widget-view+json": {
       "model_id": "b570b3e520224ca38a8e008180beefb3",
       "version_major": 2,
       "version_minor": 0
      },
      "text/plain": [
       "Box(children=(Box(children=(Label(value='front: 0.0m/s', layout=Layout(align_self='center', display='auto')), …"
      ]
     },
     "metadata": {},
     "output_type": "display_data"
    }
   ],
   "source": [
    "\n",
    "import ipywidgets as widgets\n",
    "import copy\n",
    "from geometry_msgs.msg import Twist\n",
    "tw0 = Twist( )\n",
    "tw0.linear.x = 0.0\n",
    "tw0.linear.y = 0.0\n",
    "tw0.linear.z = 0.0\n",
    "tw0.angular.x = 0.0\n",
    "tw0.angular.y = 0.0\n",
    "tw0.angular.z = 0.0\n",
    "tw = Twist( )\n",
    "\n",
    "\n",
    "\n",
    "\n",
    "lay_item = widgets.Layout( \n",
    "    display=\"auto\" )\n",
    "\n",
    "lay_vitem = widgets.Layout( \n",
    "    display=\"auto\", \n",
    "    align_self=\"center\" )\n",
    "\n",
    "lay_stop_button = widgets.Layout( \n",
    "    display=\"auto\", \n",
    "    align_self=\"center\", \n",
    "    width=\"75%\", \n",
    "    margin=\"0\" )\n",
    "\n",
    "lay_auto_vcenter = widgets.Layout( \n",
    "    display=\"auto\",\n",
    "    position=\"absolute\",\n",
    "    top=\"50%\" )\n",
    "\n",
    "lay_vertical = widgets.Layout(\n",
    "    display=\"flex\", \n",
    "    flex_flow=\"column\",\n",
    "    align_items=\"stretch\",\n",
    "    justify_content=\"center\" )\n",
    "\n",
    "lay_horizontal = widgets.Layout(\n",
    "    display=\"flex\",\n",
    "    flex_direction=\"column\",\n",
    "    justify_content=\"center\",\n",
    "    align_items=\"baseline\" )\n",
    "\n",
    "b_up = widgets.Button(description=\"^\", layout=lay_item)\n",
    "b_down = widgets.Button(description=\"v\", layout=lay_item)\n",
    "b_left = widgets.Button(description=\"<\", layout=lay_vitem)\n",
    "b_right = widgets.Button(description=\">\", layout=lay_vitem)\n",
    "b_stop = widgets.Button(description=\"STOP\", layout=lay_stop_button)\n",
    "txt_front = widgets.Label( value=\"front: 0.0m/s\", layout=lay_vitem )\n",
    "# txt_left = widgets.Label( value=\"left: 0.0m/s\", layout=lay_vitem )\n",
    "txt_rot = widgets.Label( value=\"rotation: 0.0rad/s\", layout=lay_vitem )\n",
    "txt_box = widgets.Box( [txt_front, txt_rot], layout=lay_horizontal )\n",
    "vertical_buttons = widgets.Box( [b_up, b_down], layout=lay_vertical )\n",
    "cmd_pad = widgets.Box( [b_left, vertical_buttons, b_right], layout=lay_horizontal )\n",
    "complete_pad = widgets.Box( [txt_box, cmd_pad, b_stop], layout=lay_vertical )\n",
    "\n",
    "def update( ):\n",
    "    global txt_front, txt_left, txt_rot\n",
    "    '''\n",
    "    txt_front.value = (\"front: {}m/s\").format( tw.linear.x )\n",
    "    txt_left.value = (\"left: {}m/s\").format( tw.linear.y  )\n",
    "    txt_rot.value = (\"rotation: {}rad/s\").format( tw.angular.z )\n",
    "    '''\n",
    "    pub_cmd_vel.publish( tw )\n",
    "\n",
    "def stop_all( b ):\n",
    "    global tw, tw0\n",
    "    tw.linear.x = 0.0\n",
    "    tw.linear.y = 0.0\n",
    "    tw.angular.z = 0.0\n",
    "    update( )\n",
    "\n",
    "def up( b ):\n",
    "    global tw\n",
    "    tw.linear.x = tw.linear.x + 1.0\n",
    "    update( )\n",
    "\n",
    "def down( b ):\n",
    "    global tw\n",
    "    tw.linear.x = tw.linear.x - 1.0\n",
    "    update( )\n",
    "\n",
    "def left( b ):\n",
    "    global tw\n",
    "    tw.angular.z = tw.angular.z + 0.25\n",
    "    update( )\n",
    "\n",
    "def right( b ):\n",
    "    global tw\n",
    "    tw.angular.z = tw.angular.z - 0.25\n",
    "    update( )\n",
    "\n",
    "\n",
    "b_stop.on_click( stop_all )\n",
    "b_up.on_click( up )\n",
    "b_down.on_click( down )\n",
    "b_left.on_click( left )\n",
    "b_right.on_click( right )\n",
    "display( complete_pad )"
   ]
  }
 ],
 "metadata": {
  "kernelspec": {
   "display_name": "Python 3 (ipykernel)",
   "language": "python",
   "name": "python3"
  },
  "language_info": {
   "codemirror_mode": {
    "name": "ipython",
    "version": 3
   },
   "file_extension": ".py",
   "mimetype": "text/x-python",
   "name": "python",
   "nbconvert_exporter": "python",
   "pygments_lexer": "ipython3",
   "version": "3.9.7"
  },
  "toc": {
   "base_numbering": 1,
   "nav_menu": {},
   "number_sections": true,
   "sideBar": true,
   "skip_h1_title": false,
   "title_cell": "Table of Contents",
   "title_sidebar": "Contents",
   "toc_cell": false,
   "toc_position": {},
   "toc_section_display": true,
   "toc_window_display": false
  },
  "varInspector": {
   "cols": {
    "lenName": 16,
    "lenType": 16,
    "lenVar": 40
   },
   "kernels_config": {
    "python": {
     "delete_cmd_postfix": "",
     "delete_cmd_prefix": "del ",
     "library": "var_list.py",
     "varRefreshCmd": "print(var_dic_list())"
    },
    "r": {
     "delete_cmd_postfix": ") ",
     "delete_cmd_prefix": "rm(",
     "library": "var_list.r",
     "varRefreshCmd": "cat(var_dic_list()) "
    }
   },
   "types_to_exclude": [
    "module",
    "function",
    "builtin_function_or_method",
    "instance",
    "_Feature"
   ],
   "window_display": false
  }
 },
 "nbformat": 4,
 "nbformat_minor": 5
}
