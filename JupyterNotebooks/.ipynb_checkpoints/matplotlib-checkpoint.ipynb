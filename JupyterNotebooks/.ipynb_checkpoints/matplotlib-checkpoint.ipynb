{
 "cells": [
  {
   "cell_type": "markdown",
   "id": "6b34bb7e",
   "metadata": {},
   "source": [
    "# Nota Bene\n",
    "\n",
    "- se non funzionano i plot come si deve, vedi [qui](https://stackoverflow.com/questions/25333732/matplotlib-animation-not-working-in-ipython-notebook-blank-plot) come risolvere."
   ]
  },
  {
   "cell_type": "markdown",
   "id": "6333f231",
   "metadata": {},
   "source": [
    "# Esempi su MatPlotLib"
   ]
  },
  {
   "cell_type": "markdown",
   "id": "2836964b",
   "metadata": {},
   "source": [
    "## Esempio scemo\n",
    "\n",
    "Spara punti a caso su un istogramma usando NumPy"
   ]
  },
  {
   "cell_type": "code",
   "execution_count": null,
   "id": "371e33f1",
   "metadata": {
    "ExecuteTime": {
     "end_time": "2022-03-31T15:09:04.075621Z",
     "start_time": "2022-03-31T15:09:03.863937Z"
    }
   },
   "outputs": [],
   "source": [
    "import matplotlib.pyplot as plt\n",
    "import numpy as np\n",
    "\n",
    "x = np.random.randn(10000)\n",
    "plt.hist(x,100)\n",
    "plt.title('Normal distribution with $\\mu=0, \\sigma=1$ ')\n",
    "# plt.savefig('matplotlib_histogram.png')\n",
    "\n",
    "plt.show()"
   ]
  },
  {
   "cell_type": "markdown",
   "id": "56058d41",
   "metadata": {},
   "source": [
    "## Oggetto Axes\n",
    "\n",
    "Plot usando l'oggetto `Axes`, molto semplice. "
   ]
  },
  {
   "cell_type": "code",
   "execution_count": null,
   "id": "35b52de3",
   "metadata": {
    "ExecuteTime": {
     "end_time": "2022-03-31T15:11:33.010832Z",
     "start_time": "2022-03-31T15:11:32.923625Z"
    }
   },
   "outputs": [],
   "source": [
    "import matplotlib.pyplot as plt\n",
    "import numpy as np\n",
    "\n",
    "fig, ax = plt.subplots( ) \n",
    "ax.plot([1, 2, 3, 4], [1, 4, 2, 3]) \n",
    "\n",
    "plt.show()"
   ]
  },
  {
   "cell_type": "markdown",
   "id": "bbd35479",
   "metadata": {},
   "source": [
    "La seguente funziona lo stesso, ma non permette di vedere il grafico come un oggetto. "
   ]
  },
  {
   "cell_type": "code",
   "execution_count": null,
   "id": "162a4be3",
   "metadata": {
    "ExecuteTime": {
     "end_time": "2022-03-31T15:12:49.452603Z",
     "start_time": "2022-03-31T15:12:49.363263Z"
    }
   },
   "outputs": [],
   "source": [
    "import matplotlib.pyplot as plt\n",
    "import numpy as np\n",
    "\n",
    "plt.plot([1, 2, 3, 4], [1, 4, 2, 3]) \n",
    "\n",
    "plt.show( )"
   ]
  },
  {
   "cell_type": "markdown",
   "id": "6938e769",
   "metadata": {},
   "source": [
    "## Proprietà del Plot"
   ]
  },
  {
   "cell_type": "code",
   "execution_count": null,
   "id": "91e826e4",
   "metadata": {
    "ExecuteTime": {
     "end_time": "2022-03-31T15:21:03.103880Z",
     "start_time": "2022-03-31T15:21:03.005554Z"
    }
   },
   "outputs": [],
   "source": [
    "import matplotlib.pyplot as plt\n",
    "import numpy as np\n",
    "\n",
    "x = np.linspace(0, 2, 100)\n",
    "fig, ax = plt.subplots() # Create a figure and an axes.\n",
    "\n",
    "ax.plot(x, x, label='linear', color = 'red', linestyle = '--') # Plot some data on the axes.\n",
    "ax.plot(x, x**2, label='quadratic') # Plot more data on the axes...\n",
    "ax.plot(x, x**3, 'r--o', label='cubic') # ... and some more.\n",
    "\n",
    "ax.legend() # Add a legend\n",
    "\n",
    "# label varie\n",
    "ax.set_xlabel('x label') # Add an x-label to the axes.\n",
    "ax.set_ylabel('y label') # Add a y-label to the axes.\n",
    "ax.set_title(\"Simple Plot\") # Add a title to the axes.\n",
    "\n",
    "# limiti sugli assi\n",
    "ax.set_xlim(0,2.1)\n",
    "ax.set_ylim(-0.1,8.1)\n",
    "\n",
    "# ticks\n",
    "plt.xticks([0.25*k for k in range (-4,5)])\n",
    "plt.yticks ([0.1, 0.5, 1.5, 4.0, 6.0, 8.0], ['A', 'B', 'C', 'D', 'E', 'F'])\n",
    "\n",
    "plt.show( )"
   ]
  },
  {
   "cell_type": "markdown",
   "id": "3fbeeda6",
   "metadata": {
    "ExecuteTime": {
     "end_time": "2022-03-31T15:22:48.804985Z",
     "start_time": "2022-03-31T15:22:48.718113Z"
    }
   },
   "source": [
    "## Testo nei grafici"
   ]
  },
  {
   "cell_type": "code",
   "execution_count": null,
   "id": "0d0e8189",
   "metadata": {
    "ExecuteTime": {
     "end_time": "2022-03-31T15:30:22.541451Z",
     "start_time": "2022-03-31T15:30:22.459720Z"
    },
    "scrolled": true
   },
   "outputs": [],
   "source": [
    "import matplotlib.pyplot as plt\n",
    "\n",
    "fig = plt.figure()\n",
    "\n",
    "ax = fig.add_axes([0, 0, 1, 1])\n",
    "ax.text(0.25, 0.75, 'rotated\\nwith newlines',\n",
    "    horizontalalignment='center',\n",
    "    verticalalignment='center',\n",
    "    rotation=-45,\n",
    "    transform=ax.transAxes )\n",
    "\n",
    "plt.show()"
   ]
  },
  {
   "cell_type": "markdown",
   "id": "9c4bbab3",
   "metadata": {},
   "source": [
    "## Frecce"
   ]
  },
  {
   "cell_type": "code",
   "execution_count": null,
   "id": "566c7412",
   "metadata": {
    "ExecuteTime": {
     "end_time": "2022-04-01T12:47:01.455364Z",
     "start_time": "2022-04-01T12:47:01.397879Z"
    }
   },
   "outputs": [],
   "source": [
    "import matplotlib.pyplot as plt\n",
    "import numpy as np\n",
    "%matplotlib notebook\n",
    "\n",
    "ax = plt.subplot()\n",
    "\n",
    "t = np.arange(0.0, 5.0, 0.01)\n",
    "s = np.cos(2*np.pi*t)\n",
    "line, = plt.plot(t, s)\n",
    "\n",
    "plt.annotate( 'local max', xy=(2, 1), xytext=(4, 1.5),\n",
    "    arrowprops=dict(shrink=0.05) )\n",
    "plt.ylim(-2, 2)\n",
    "\n",
    "plt.show()"
   ]
  },
  {
   "cell_type": "markdown",
   "id": "250481dc",
   "metadata": {},
   "source": [
    "Un altro esempio riguardo le frecce:"
   ]
  },
  {
   "cell_type": "code",
   "execution_count": null,
   "id": "052bf3a2",
   "metadata": {
    "ExecuteTime": {
     "end_time": "2022-04-01T13:02:00.724356Z",
     "start_time": "2022-04-01T13:02:00.689646Z"
    }
   },
   "outputs": [],
   "source": [
    "import matplotlib as mpl\n",
    "import matplotlib.pyplot as plt \n",
    "\n",
    "%matplotlib notebook\n",
    "\n",
    "deg = np.pi/3\n",
    "\n",
    "x = np.cos( deg )\n",
    "y = np.sin( deg )\n",
    "\n",
    "fig, ax = plt.subplots( )\n",
    "plt.xlim( -2, 2 )\n",
    "plt.ylim( -2, 2 )\n",
    "\n",
    "# plt.annotate( 'ciao', xy=(1,1), xytext=(0,0), arrowprops=dict(shrink=0.00) )\n",
    "ax.arrow( 0, 0, x, y, width=0.05 )\n",
    "ax.plot( [0, 0], [-2, 2], '--r' )\n",
    "ax.plot( [-2, 2], [0, 0], '--r' )\n",
    "ax.grid( True )\n",
    "\n",
    "plt.show( )"
   ]
  },
  {
   "cell_type": "markdown",
   "id": "89f541e7",
   "metadata": {},
   "source": [
    "## Error Bars"
   ]
  },
  {
   "cell_type": "code",
   "execution_count": null,
   "id": "25b3e901",
   "metadata": {
    "ExecuteTime": {
     "end_time": "2022-04-01T13:05:28.441708Z",
     "start_time": "2022-04-01T13:05:28.351680Z"
    }
   },
   "outputs": [],
   "source": [
    "import matplotlib.pyplot as plt\n",
    "import numpy as np\n",
    "\n",
    "%matplotlib notebook\n",
    "\n",
    "ax = plt.subplot()\n",
    "\n",
    "x = [0.5,1.0,2.9,3.8,4.3,5.2,6.1,7.0,7.8,9.6]\n",
    "y = [0.78,0.63,0.38,0.25,0.22,0.21,0.20,0.19,0.18,0.17]\n",
    "ym = [0.2,0.15,0.13,0.12,0.11,0.09,0.08,0.07,0.06,0.05]\n",
    "yM = [0.35,0.3,0.28,0.16,0.15,0.14,0.13,0.12,0.11,0.1]\n",
    "plt.errorbar(x,y, yerr=(ym,yM), linewidth=0.5, \n",
    "    marker='o',markeredgecolor='blue', \n",
    "    markeredgewidth=2,markerfacecolor='yellow', \n",
    "    ecolor='green',markersize=10,elinewidth=5.0)\n",
    "\n",
    "plt.show()"
   ]
  },
  {
   "cell_type": "markdown",
   "id": "4858f859",
   "metadata": {},
   "source": [
    "## Bar Plots"
   ]
  },
  {
   "cell_type": "code",
   "execution_count": null,
   "id": "863b0b18",
   "metadata": {
    "ExecuteTime": {
     "end_time": "2022-03-31T15:33:29.057535Z",
     "start_time": "2022-03-31T15:33:28.942692Z"
    }
   },
   "outputs": [],
   "source": [
    "import matplotlib.pyplot as plt\n",
    "import numpy as np\n",
    "\n",
    "ax = plt.subplot()\n",
    "\n",
    "y = [1.9,3.8,5.0,5.8,6.3,9.0,9.9,13.0,14.3,13.8]\n",
    "x = np.linspace(1,10,10)\n",
    "plt.bar(x,y)\n",
    "plt.xticks(np.linspace(0,12,13))\n",
    "plt.bar(x,y, align='edge', width=0.35, color='green')\n",
    "\n",
    "plt.show()"
   ]
  },
  {
   "cell_type": "markdown",
   "id": "c788a4c5",
   "metadata": {},
   "source": [
    "Altro esempio:"
   ]
  },
  {
   "cell_type": "code",
   "execution_count": null,
   "id": "7a731254",
   "metadata": {
    "ExecuteTime": {
     "end_time": "2022-03-31T15:34:17.768331Z",
     "start_time": "2022-03-31T15:34:17.660218Z"
    }
   },
   "outputs": [],
   "source": [
    "import numpy as np\n",
    "import matplotlib.pyplot as plt\n",
    "\n",
    "avr_men = (20,35,30,35,27); std_men = (2,3,4,1,2)\n",
    "avr_women = (25,32,34,20,25); std_women = (3,5,2,3,3)\n",
    "index = np.arange(5);\n",
    "eConf = {'ecolor': '0.3'}\n",
    "plt.bar(index, avr_men, align='edge', width=0.35, alpha=0.40,\n",
    "color='b', yerr=std_men, error_kw=eConf, label='Men')\n",
    "plt.bar(index+0.35, avr_women, align='edge', width=0.35, \n",
    "alpha=0.40,\n",
    "color='r', yerr=std_women, error_kw=eConf, label='Women')\n",
    "plt.xlabel('Group')\n",
    "plt.ylabel('Scores')\n",
    "plt.title('Scores by group and gender')\n",
    "plt.xticks(index + 0.35, ('A', 'B', 'C', 'D', 'E'))\n",
    "plt.legend()\n",
    "\n",
    "plt.show()"
   ]
  },
  {
   "cell_type": "markdown",
   "id": "d76c2060",
   "metadata": {},
   "source": [
    "## Creazione di Subplots"
   ]
  },
  {
   "cell_type": "code",
   "execution_count": null,
   "id": "468739af",
   "metadata": {
    "ExecuteTime": {
     "end_time": "2022-03-31T15:35:09.080565Z",
     "start_time": "2022-03-31T15:35:08.939756Z"
    }
   },
   "outputs": [],
   "source": [
    "import numpy as np\n",
    "import matplotlib.pyplot as plt\n",
    "\n",
    "x = np.linspace(0.0, 5.0) \n",
    "y1 = np.cos(2*np.pi*x)*np.exp(-x) \n",
    "y2 = np.cos(2*np.pi*x) \n",
    "\n",
    "plt.subplot(2, 1, 1)\n",
    "plt.plot(x, y1, 'go-') \n",
    "plt.title('my 2 subplots') \n",
    "plt.ylabel('Damped') \n",
    "plt.subplot(2, 1, 2)\n",
    "plt.plot(x, y2, 'r^-') \n",
    "plt.xlabel('time (s)') \n",
    "plt.ylabel('Undamped') \n",
    "\n",
    "plt.show()"
   ]
  },
  {
   "cell_type": "markdown",
   "id": "bba8c788",
   "metadata": {},
   "source": [
    "## Pie Charts"
   ]
  },
  {
   "cell_type": "code",
   "execution_count": null,
   "id": "71c00fa3",
   "metadata": {
    "ExecuteTime": {
     "end_time": "2022-03-31T15:36:00.745214Z",
     "start_time": "2022-03-31T15:36:00.666421Z"
    }
   },
   "outputs": [],
   "source": [
    "import matplotlib.pyplot as plt\n",
    "import numpy as np\n",
    "\n",
    "# Pie chart, where the slices will be ordered and plotted counter-clockwise:\n",
    "labels = 'Frogs', 'Hogs', 'Dogs', 'Logs'\n",
    "sizes = [15, 30, 45, 10]\n",
    "explode = (0, 0.1, 0, 0) # only \"explode\" the 2nd slice (i.e. 'Hogs')\n",
    "fig1, ax1 = plt.subplots()\n",
    "ax1.pie(sizes, explode=explode, labels=labels, autopct='%1.1f%%',\n",
    "shadow=True, startangle=90)\n",
    "ax1.axis('equal') # Equal aspect ratio ensures that pie is drawn as a circle.\n",
    "plt.show()"
   ]
  },
  {
   "cell_type": "markdown",
   "id": "972e22b0",
   "metadata": {},
   "source": [
    "## Scala logaritmica"
   ]
  },
  {
   "cell_type": "code",
   "execution_count": null,
   "id": "1f58eeef",
   "metadata": {
    "ExecuteTime": {
     "end_time": "2022-03-31T15:38:27.103182Z",
     "start_time": "2022-03-31T15:38:26.918107Z"
    }
   },
   "outputs": [],
   "source": [
    "import matplotlib.pyplot as plt\n",
    "import numpy as np\n",
    "\n",
    "y = np.random.normal(loc=0.5, scale=0.4, size=1000)\n",
    "y = y[(y > 0) & (y < 1)]\n",
    "y.sort()\n",
    "x = np.arange(len(y))\n",
    "# plot with various axes scales\n",
    "plt.figure()\n",
    "\n",
    "# linear\n",
    "plt.subplot(211)\n",
    "plt.plot(x, y)\n",
    "plt.yscale('linear')\n",
    "plt.title('linear')\n",
    "plt.grid(True)\n",
    "\n",
    "#log\n",
    "plt.subplot(212)\n",
    "plt.plot(x, y)\n",
    "plt.yscale('log')\n",
    "plt.title('log')\n",
    "plt.grid(True)\n",
    "\n",
    "plt.show()"
   ]
  },
  {
   "cell_type": "markdown",
   "id": "6d1dcaeb",
   "metadata": {},
   "source": [
    "## Buttons"
   ]
  },
  {
   "cell_type": "code",
   "execution_count": null,
   "id": "7db188dd",
   "metadata": {
    "ExecuteTime": {
     "end_time": "2022-04-01T13:14:18.960610Z",
     "start_time": "2022-04-01T13:14:18.864763Z"
    }
   },
   "outputs": [],
   "source": [
    "import numpy as np\n",
    "import matplotlib.pyplot as plt\n",
    "from matplotlib.widgets import Button\n",
    "\n",
    "%matplotlib notebook\n",
    "\n",
    "freqs = np.arange(2, 20, 3)\n",
    "fig, ax = plt.subplots()\n",
    "plt.subplots_adjust(bottom=0.2)\n",
    "t = np.arange(0.0, 1.0, 0.001)\n",
    "s = np.sin(2*np.pi*freqs[0]*t)\n",
    "l, = plt.plot(t, s)\n",
    "class Index:\n",
    "    ind = 0\n",
    "    def next(self, event):\n",
    "        self.ind += 1\n",
    "        i = self.ind % len(freqs)\n",
    "        ydata = np.sin(2*np.pi*freqs[i]*t)\n",
    "        l.set_ydata(ydata)\n",
    "        plt.draw()\n",
    "\n",
    "    def prev(self, event):\n",
    "        self.ind -= 1\n",
    "        i = self.ind % len(freqs)\n",
    "        ydata = np.sin(2*np.pi*freqs[i]*t)\n",
    "        l.set_ydata(ydata)\n",
    "        plt.draw()\n",
    "        \n",
    "callback = Index()\n",
    "axprev = plt.axes([0.65, 0.05, 0.1, 0.075])\n",
    "axnext = plt.axes([0.76, 0.05, 0.1, 0.075])\n",
    "axclose = plt.axes([0.87, 0.05, 0.1, 0.075])\n",
    "bnext = Button(axnext, 'Next')\n",
    "bnext.on_clicked(callback.next)\n",
    "bprev = Button(axprev, 'Previous')\n",
    "bprev.on_clicked(callback.prev)\n",
    "plt.show()"
   ]
  },
  {
   "cell_type": "markdown",
   "id": "0469b1bc",
   "metadata": {},
   "source": [
    "# 3D Plot"
   ]
  },
  {
   "cell_type": "markdown",
   "id": "8d40c0cd",
   "metadata": {},
   "source": [
    "## 3D simple plot"
   ]
  },
  {
   "cell_type": "code",
   "execution_count": null,
   "id": "08038249",
   "metadata": {
    "ExecuteTime": {
     "end_time": "2022-04-01T13:10:36.549511Z",
     "start_time": "2022-04-01T13:10:36.469726Z"
    }
   },
   "outputs": [],
   "source": [
    "import matplotlib as mpl\n",
    "from mpl_toolkits.mplot3d import Axes3D\n",
    "import numpy as np\n",
    "import matplotlib.pyplot as plt\n",
    "mpl.rcParams['legend.fontsize'] = 10\n",
    "%matplotlib notebook\n",
    "\n",
    "fig = plt.figure()\n",
    "ax = fig.gca(projection='3d')\n",
    "\n",
    "theta = np.linspace(-4 * np.pi, 4 * np.pi, 100)\n",
    "z = np.linspace(-2, 2, 100)\n",
    "r = z**2 + 1\n",
    "x = r * np.sin(theta)\n",
    "y = r * np.cos(theta)\n",
    "ax.plot(x, y, z, label='parametric curve')\n",
    "ax.legend()\n",
    "\n",
    "plt.show()"
   ]
  },
  {
   "cell_type": "markdown",
   "id": "54e6dc38",
   "metadata": {},
   "source": [
    "## Altro esempio di plot 3D \n",
    "\n",
    "Usando i plot dinamici ... che in Jupyter non funzionano. Funzionano bene se usati come programmi indipendenti. "
   ]
  },
  {
   "cell_type": "code",
   "execution_count": null,
   "id": "a46897f4",
   "metadata": {
    "ExecuteTime": {
     "end_time": "2022-03-31T15:53:55.873476Z",
     "start_time": "2022-03-31T15:53:51.960028Z"
    }
   },
   "outputs": [],
   "source": [
    "from mpl_toolkits.mplot3d import axes3d\n",
    "import matplotlib.pyplot as plt\n",
    "%matplotlib tk\n",
    "\n",
    "fig = plt.figure()\n",
    "ax = fig.add_subplot(111, projection ='3d')\n",
    "X, Y, Z = axes3d.get_test_data(0.1)\n",
    "ax.plot_wireframe(X, Y, Z, rstride = 5, \n",
    "cstride = 5)\n",
    "for angle in range(0, 360):\n",
    "    ax.view_init(30, angle)\n",
    "    plt.draw()\n",
    "    plt.pause(.001)\n",
    "    ax.set_title('matplotlib.pyplot.draw()\\\n",
    "    function Example', fontweight =\"bold\")\n"
   ]
  },
  {
   "cell_type": "markdown",
   "id": "b9e1ef51",
   "metadata": {},
   "source": [
    "# Animazioni"
   ]
  },
  {
   "cell_type": "markdown",
   "id": "449c443c",
   "metadata": {},
   "source": [
    "## Esempio di base\n",
    "\n",
    "Questo esempio può essere facilmente esteso alla mappa generata da ROS richiesta per l'esame. \n",
    "\n",
    "L'esempio non funziona su Jupyter, ma funziona bene come standalone. \n",
    "\n",
    "EDIT: usa `%matplotlib notebook` per eseguire il backend su Jupyter."
   ]
  },
  {
   "cell_type": "code",
   "execution_count": null,
   "id": "ed15b2c9",
   "metadata": {
    "ExecuteTime": {
     "end_time": "2022-04-01T13:46:01.487423Z",
     "start_time": "2022-04-01T13:46:01.452621Z"
    }
   },
   "outputs": [],
   "source": [
    "%matplotlib notebook\n",
    "import numpy as np\n",
    "import matplotlib.pyplot as plt\n",
    "from matplotlib.animation import FuncAnimation\n",
    "\n",
    "fig, ax = plt.subplots()\n",
    "xdata, ydata = [], []\n",
    "ln, = plt.plot([], [], 'ro')\n",
    "\n",
    "def init():\n",
    "    ax.set_xlim(0, 2*np.pi)\n",
    "    ax.set_ylim(-1, 1)\n",
    "    return ln,\n",
    "\n",
    "def update(frame):\n",
    "    xdata.append(frame)\n",
    "    ydata.append(np.sin(frame))\n",
    "    ln.set_data(xdata, ydata)\n",
    "    return ln,\n",
    "\n",
    "ani = FuncAnimation(fig, update, frames=np.linspace(0, 2*np.pi, 128),\n",
    "    init_func=init, blit=True)\n",
    "\n",
    "plt.show()\n"
   ]
  },
  {
   "cell_type": "markdown",
   "id": "41fd8d8e",
   "metadata": {},
   "source": [
    "Un altro esempio di animazione, vedi demo:"
   ]
  },
  {
   "cell_type": "code",
   "execution_count": null,
   "id": "2757d2bf",
   "metadata": {
    "ExecuteTime": {
     "end_time": "2022-04-01T14:18:54.013400Z",
     "start_time": "2022-04-01T14:18:53.973575Z"
    }
   },
   "outputs": [],
   "source": [
    "import numpy as np\n",
    "import matplotlib.pyplot as plt\n",
    "import matplotlib.animation as animation\n",
    "\n",
    "%matplotlib notebook\n",
    "\n",
    "fig, ax = plt.subplots()\n",
    "\n",
    "x = np.arange(0, 2*np.pi, 0.01)\n",
    "line, = ax.plot(x, np.sin(x))\n",
    "\n",
    "\n",
    "def init():  # only required for blitting to give a clean slate.\n",
    "    line.set_ydata([np.nan] * len(x))\n",
    "    return line,\n",
    "\n",
    "\n",
    "def animate(i):\n",
    "    line.set_ydata(np.sin(x + i / 100))  # update the data.\n",
    "    return line,\n",
    "\n",
    "\n",
    "ani = animation.FuncAnimation(\n",
    "    fig, animate, init_func=init, interval=2, blit=True, save_count=50)\n",
    "\n",
    "# To save the animation, use e.g.\n",
    "#\n",
    "# ani.save(\"movie.mp4\")\n",
    "#\n",
    "# or\n",
    "#\n",
    "# from matplotlib.animation import FFMpegWriter\n",
    "# writer = FFMpegWriter(fps=15, metadata=dict(artist='Me'), bitrate=1800)\n",
    "# ani.save(\"movie.mp4\", writer=writer)\n",
    "\n",
    "plt.show()\n"
   ]
  },
  {
   "cell_type": "markdown",
   "id": "0ffa3cee",
   "metadata": {},
   "source": [
    "Esempio *fatto a mano* di animazione:"
   ]
  },
  {
   "cell_type": "code",
   "execution_count": null,
   "id": "c5e4c576",
   "metadata": {
    "ExecuteTime": {
     "end_time": "2022-04-01T14:28:39.829589Z",
     "start_time": "2022-04-01T14:28:39.796292Z"
    }
   },
   "outputs": [],
   "source": [
    "import numpy as np\n",
    "import matplotlib as mpl\n",
    "import matplotlib.pyplot as plt\n",
    "from matplotlib.animation import FuncAnimation\n",
    "\n",
    "%matplotlib notebook\n",
    "\n",
    "fig, ax = plt.subplots( )\n",
    "point, = ax.plot( 0, 0, 'x' )\n",
    "\n",
    "def init_anim( ):\n",
    "    point.set_data(0, 0)\n",
    "    return point,\n",
    "\n",
    "count = 0\n",
    "def update_anim( frame ):\n",
    "    global count \n",
    "    point.set_data(count*0.01, count*0.01)\n",
    "    count = count + 1\n",
    "    return point,\n",
    "\n",
    "anim = FuncAnimation( fig, update_anim, init_func=init_anim, interval=500, blit=True )\n",
    "\n",
    "# plt.show( )"
   ]
  }
 ],
 "metadata": {
  "kernelspec": {
   "display_name": "Python 3 (ipykernel)",
   "language": "python",
   "name": "python3"
  },
  "language_info": {
   "codemirror_mode": {
    "name": "ipython",
    "version": 3
   },
   "file_extension": ".py",
   "mimetype": "text/x-python",
   "name": "python",
   "nbconvert_exporter": "python",
   "pygments_lexer": "ipython3",
   "version": "3.9.7"
  },
  "varInspector": {
   "cols": {
    "lenName": 16,
    "lenType": 16,
    "lenVar": 40
   },
   "kernels_config": {
    "python": {
     "delete_cmd_postfix": "",
     "delete_cmd_prefix": "del ",
     "library": "var_list.py",
     "varRefreshCmd": "print(var_dic_list())"
    },
    "r": {
     "delete_cmd_postfix": ") ",
     "delete_cmd_prefix": "rm(",
     "library": "var_list.r",
     "varRefreshCmd": "cat(var_dic_list()) "
    }
   },
   "types_to_exclude": [
    "module",
    "function",
    "builtin_function_or_method",
    "instance",
    "_Feature"
   ],
   "window_display": false
  }
 },
 "nbformat": 4,
 "nbformat_minor": 5
}
