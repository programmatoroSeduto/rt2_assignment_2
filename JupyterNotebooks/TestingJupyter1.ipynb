{
 "cells": [
  {
   "cell_type": "markdown",
   "id": "8542e56b",
   "metadata": {},
   "source": [
    "# Jupyter ROSPY controller\n",
    "\n",
    "Name of the node: `jupyter_end_ui`"
   ]
  },
  {
   "cell_type": "code",
   "execution_count": 1,
   "id": "6f1b658c",
   "metadata": {
    "ExecuteTime": {
     "end_time": "2022-03-28T13:39:42.122656Z",
     "start_time": "2022-03-28T13:39:41.208423Z"
    }
   },
   "outputs": [],
   "source": [
    "import jupyros\n",
    "import rospy\n",
    "from std_srvs.srv import SetBool, SetBoolRequest, SetBoolResponse\n",
    "import ipywidgets as widgets\n",
    "\n",
    "# init of this node\n",
    "rospy.init_node( \"jupyter_end_ui\" )"
   ]
  },
  {
   "cell_type": "markdown",
   "id": "aa162b0c",
   "metadata": {},
   "source": [
    "Request of the service which implements a switch for the user interface:"
   ]
  },
  {
   "cell_type": "code",
   "execution_count": 2,
   "id": "f2284909",
   "metadata": {
    "ExecuteTime": {
     "end_time": "2022-03-28T13:39:50.062774Z",
     "start_time": "2022-03-28T13:39:50.017939Z"
    }
   },
   "outputs": [
    {
     "data": {
      "text/plain": [
       "success: False\n",
       "message: ''"
      ]
     },
     "execution_count": 2,
     "metadata": {},
     "output_type": "execute_result"
    }
   ],
   "source": [
    "name_ui_trigger = \"/ui_trigger\"\n",
    "rospy.wait_for_service( name_ui_trigger )\n",
    "cli_ui_trigger = rospy.ServiceProxy( name_ui_trigger, SetBool )\n",
    "\n",
    "# set the manual mode\n",
    "cli_ui_trigger( True )"
   ]
  },
  {
   "cell_type": "markdown",
   "id": "f4517aee",
   "metadata": {},
   "source": [
    "This service allows to turn on and off the authonomus behaviour of the robot."
   ]
  },
  {
   "cell_type": "markdown",
   "id": "68fa4f24",
   "metadata": {},
   "source": [
    "## Turn on and off the authonomous behaviour\n",
    "\n",
    "By default, this kind of behaviour is disabled and the manual mode is set. \n",
    "use `cli_ui_trigger(True)` to set the manual mode; the opposite call will enable the authonomous behaviour."
   ]
  },
  {
   "cell_type": "code",
   "execution_count": 19,
   "id": "345c1dc6",
   "metadata": {
    "ExecuteTime": {
     "end_time": "2022-03-27T18:02:23.988228Z",
     "start_time": "2022-03-27T18:02:23.969584Z"
    }
   },
   "outputs": [
    {
     "data": {
      "application/vnd.jupyter.widget-view+json": {
       "model_id": "798663dbb34c4b3ea3aaf1c920f57d2b",
       "version_major": 2,
       "version_minor": 0
      },
      "text/plain": [
       "ToggleButton(value=False, description='Authonomous Mode', tooltip='allows to turn on/ turn off the authomatic …"
      ]
     },
     "metadata": {},
     "output_type": "display_data"
    }
   ],
   "source": [
    "import ipywidgets as widgets\n",
    "\n",
    "togglebutton_ui_trigger = widgets.ToggleButton( \n",
    "    tooltip=\"allows to turn on/ turn off the authomatic behaviour.\",\n",
    "    description=\"Authonomous Mode\",\n",
    "    value=False )\n",
    "\n",
    "mode_manual = True\n",
    "\n",
    "def change_ui_status( val ):\n",
    "    # print( type(val) )\n",
    "    if val['new']:\n",
    "        print( \"turn on the authonomous mode\" )\n",
    "        cli_ui_trigger( False )\n",
    "        mode_manual = False\n",
    "        pass\n",
    "    else:\n",
    "        print( \"turn off the authonomous mode\" )\n",
    "        cli_ui_trigger( True )\n",
    "        mode_manual = True\n",
    "        pass\n",
    "\n",
    "togglebutton_ui_trigger.observe( change_ui_status, names='value' )\n",
    "display(togglebutton_ui_trigger)"
   ]
  },
  {
   "cell_type": "code",
   "execution_count": 20,
   "id": "d0554153",
   "metadata": {
    "ExecuteTime": {
     "end_time": "2022-03-27T18:02:26.508538Z",
     "start_time": "2022-03-27T18:02:26.504084Z"
    }
   },
   "outputs": [],
   "source": [
    "from rt2_assignment1.srv import Command, CommandRequest, CommandResponse\n",
    "\n",
    "name_user_interface = \"/user_interface\"\n",
    "cli_user_interface = rospy.ServiceProxy( name_user_interface, Command )"
   ]
  },
  {
   "cell_type": "markdown",
   "id": "67d22f9e",
   "metadata": {},
   "source": [
    "## Testing the node GoToPoint\n",
    "\n",
    "request for starting the robot:"
   ]
  },
  {
   "cell_type": "code",
   "execution_count": 5,
   "id": "ec75d708",
   "metadata": {
    "ExecuteTime": {
     "end_time": "2022-03-27T17:56:47.016349Z",
     "start_time": "2022-03-27T17:56:46.996369Z"
    }
   },
   "outputs": [
    {
     "name": "stdout",
     "output_type": "stream",
     "text": [
      "ok: True\n"
     ]
    }
   ],
   "source": [
    "'''cmd = CommandRequest( )\n",
    "cmd.command = \"start\"\n",
    "res = cli_user_interface( cmd )\n",
    "print( res )\n",
    "'''\n",
    "\n",
    "print( cli_user_interface( CommandRequest( command=\"start\" ) ) )"
   ]
  },
  {
   "cell_type": "markdown",
   "id": "9bb4ba41",
   "metadata": {},
   "source": [
    "Request for stopping the robot:"
   ]
  },
  {
   "cell_type": "code",
   "execution_count": 6,
   "id": "ab65017f",
   "metadata": {
    "ExecuteTime": {
     "end_time": "2022-03-27T17:56:49.037730Z",
     "start_time": "2022-03-27T17:56:48.936864Z"
    }
   },
   "outputs": [
    {
     "name": "stdout",
     "output_type": "stream",
     "text": [
      "ok: True\n"
     ]
    }
   ],
   "source": [
    "'''cmd2 = CommandRequest( )\n",
    "cmd2.command = \"stop\"\n",
    "res2 = cli_user_interface( cmd2 )\n",
    "print( res2 )'''\n",
    "\n",
    "print( cli_user_interface( CommandRequest( command=\"stop\" ) ) )"
   ]
  },
  {
   "cell_type": "markdown",
   "id": "13650963",
   "metadata": {},
   "source": [
    "# Manual Mode\n",
    "\n",
    "Before starting, let's set the manual mode: `True` for setting on the manual mode. "
   ]
  },
  {
   "cell_type": "code",
   "execution_count": 7,
   "id": "31b424b1",
   "metadata": {
    "ExecuteTime": {
     "end_time": "2022-03-27T17:56:59.345083Z",
     "start_time": "2022-03-27T17:56:59.294751Z"
    }
   },
   "outputs": [
    {
     "data": {
      "text/plain": [
       "success: False\n",
       "message: ''"
      ]
     },
     "execution_count": 7,
     "metadata": {},
     "output_type": "execute_result"
    }
   ],
   "source": [
    "cli_ui_trigger( True )"
   ]
  },
  {
   "cell_type": "markdown",
   "id": "6b0ba472",
   "metadata": {},
   "source": [
    "NON FUNZIONA. Forse bisogna usare le funzioni di Jupyter per pubblicare, magari c'è qualche limite per quanto rigaurda le interfacce di questo tipo. "
   ]
  },
  {
   "cell_type": "code",
   "execution_count": 3,
   "id": "82a8ff2d",
   "metadata": {
    "ExecuteTime": {
     "end_time": "2022-03-28T13:40:32.165066Z",
     "start_time": "2022-03-28T13:40:32.070559Z"
    }
   },
   "outputs": [
    {
     "name": "stdout",
     "output_type": "stream",
     "text": [
      "0\n"
     ]
    },
    {
     "data": {
      "application/vnd.jupyter.widget-view+json": {
       "model_id": "95ad02d6655b4b77acf8c89b77681b6e",
       "version_major": 2,
       "version_minor": 0
      },
      "text/plain": [
       "FloatSlider(value=0.0, max=1.0, min=-1.0)"
      ]
     },
     "metadata": {},
     "output_type": "display_data"
    },
    {
     "data": {
      "application/vnd.jupyter.widget-view+json": {
       "model_id": "8ebe963b39134df2bdeb34b841454cab",
       "version_major": 2,
       "version_minor": 0
      },
      "text/plain": [
       "FloatSlider(value=0.0, max=1.0, min=-1.0)"
      ]
     },
     "metadata": {},
     "output_type": "display_data"
    }
   ],
   "source": [
    "# sliders \n",
    "\n",
    "from geometry_msgs.msg import Twist\n",
    "mode_manual = True\n",
    "\n",
    "tw = Twist( )\n",
    "tw.linear.x = 0.0\n",
    "tw.linear.y = 0.0\n",
    "tw.linear.z = 0.0\n",
    "tw.angular.x = 0.0\n",
    "tw.angular.y = 0.0\n",
    "tw.angular.z = 0.0\n",
    "\n",
    "pub_cmd_vel = rospy.Publisher( \"/cmd_vel\", Twist, queue_size=1 )\n",
    "print( pub_cmd_vel.get_num_connections( ) )\n",
    "pub_cmd_vel.publish( tw )\n",
    "\n",
    "slider_linear  = widgets.FloatSlider( min=-1.0, max=1.0, value=0, step=0.1, readout=True )\n",
    "slider_angular = widgets.FloatSlider( min=-1.0, max=1.0, value=0, step=0.1, readout=True )\n",
    "\n",
    "def on_linear_change( v ):\n",
    "    global mode_manual\n",
    "    \n",
    "    vlinear = v[\"new\"]\n",
    "    # if mode_manual:\n",
    "    tw.linear.x = vlinear\n",
    "    pub_cmd_vel.publish( tw )\n",
    "\n",
    "def on_angular_change( a ):\n",
    "    global mode_manual\n",
    "    \n",
    "    vangular = a[\"new\"]\n",
    "    # if mode_manual:\n",
    "    tw.angular.z = vangular\n",
    "    pub_cmd_vel.publish( tw )\n",
    "\n",
    "slider_linear.observe( on_linear_change, names=\"value\" )\n",
    "slider_angular.observe( on_angular_change, names=\"value\" )\n",
    "display( slider_linear, slider_angular )"
   ]
  },
  {
   "cell_type": "markdown",
   "id": "c443eb95",
   "metadata": {},
   "source": [
    "Lo stesso codice di prima, ma stavolta usando la funzione Jupyter per i topic. "
   ]
  },
  {
   "cell_type": "code",
   "execution_count": 6,
   "id": "80ad468f",
   "metadata": {
    "ExecuteTime": {
     "end_time": "2022-03-28T13:46:47.406185Z",
     "start_time": "2022-03-28T13:46:47.169479Z"
    }
   },
   "outputs": [
    {
     "data": {
      "application/vnd.jupyter.widget-view+json": {
       "model_id": "0030fe07afaa4393990716570ad6d18b",
       "version_major": 2,
       "version_minor": 0
      },
      "text/plain": [
       "VBox(children=(Label(value='linear'), HBox(children=(Label(value='x', layout=Layout(width='100px')), FloatText…"
      ]
     },
     "metadata": {},
     "output_type": "display_data"
    }
   ],
   "source": [
    "from geometry_msgs.msg import Twist\n",
    "import jupyros as jr\n",
    "\n",
    "tw = Twist( )\n",
    "tw.linear.x = 0.0\n",
    "tw.linear.y = 0.0\n",
    "tw.linear.z = 0.0\n",
    "tw.angular.x = 0.0\n",
    "tw.angular.y = 0.0\n",
    "tw.angular.z = 0.0\n",
    "\n",
    "'''\n",
    "pub_cmd_vel = jr.publish( \"/cmd_vel\", Twist )\n",
    "print( pub_cmd_vel.get_num_connections( ) )\n",
    "pub_cmd_vel.publish( tw )\n",
    "'''\n",
    "jr.publish( \"/cmd_vel\", Twist )\n"
   ]
  }
 ],
 "metadata": {
  "kernelspec": {
   "display_name": "Python 3 (ipykernel)",
   "language": "python",
   "name": "python3"
  },
  "language_info": {
   "codemirror_mode": {
    "name": "ipython",
    "version": 3
   },
   "file_extension": ".py",
   "mimetype": "text/x-python",
   "name": "python",
   "nbconvert_exporter": "python",
   "pygments_lexer": "ipython3",
   "version": "3.9.7"
  },
  "toc": {
   "base_numbering": 1,
   "nav_menu": {},
   "number_sections": true,
   "sideBar": true,
   "skip_h1_title": false,
   "title_cell": "Table of Contents",
   "title_sidebar": "Contents",
   "toc_cell": false,
   "toc_position": {},
   "toc_section_display": true,
   "toc_window_display": false
  },
  "varInspector": {
   "cols": {
    "lenName": 16,
    "lenType": 16,
    "lenVar": 40
   },
   "kernels_config": {
    "python": {
     "delete_cmd_postfix": "",
     "delete_cmd_prefix": "del ",
     "library": "var_list.py",
     "varRefreshCmd": "print(var_dic_list())"
    },
    "r": {
     "delete_cmd_postfix": ") ",
     "delete_cmd_prefix": "rm(",
     "library": "var_list.r",
     "varRefreshCmd": "cat(var_dic_list()) "
    }
   },
   "types_to_exclude": [
    "module",
    "function",
    "builtin_function_or_method",
    "instance",
    "_Feature"
   ],
   "window_display": false
  }
 },
 "nbformat": 4,
 "nbformat_minor": 5
}
